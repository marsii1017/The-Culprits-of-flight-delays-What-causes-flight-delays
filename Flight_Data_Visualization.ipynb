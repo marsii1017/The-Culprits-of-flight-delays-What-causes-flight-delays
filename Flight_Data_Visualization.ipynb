{
  "nbformat": 4,
  "nbformat_minor": 0,
  "metadata": {
    "colab": {
      "name": "FlightDataVisualization.ipynb",
      "provenance": [],
      "collapsed_sections": [],
      "toc_visible": true,
      "machine_shape": "hm"
    },
    "kernelspec": {
      "name": "python3",
      "display_name": "Python 3"
    },
    "accelerator": "GPU"
  },
  "cells": [
    {
      "cell_type": "markdown",
      "metadata": {
        "id": "L2YgwWY4rHhY",
        "colab_type": "text"
      },
      "source": [
        "#### DATA SCIENCE COMPETITION 2020 :: Texas A&M University :: Flight Data Visualization\n",
        "\n",
        "### The Culprits of flight delays - What causes flight delays?\n",
        "####Team: **AeroNet**\n",
        "####Members: **SangHyeon Lee**, **Ming-Hsien Chien**,**Yusu Wang**, **Hung-Yi Chen**, **Bo Wang**.\n",
        "\n",
        "### Sponsor: \n",
        "Institute of Data Science – Texas A&M University\n",
        "\n",
        "### Challenge: \n",
        "Build models for predicting expected flight delays by airline and flight for the third quarter of 2019.\n",
        "\n",
        "### Data: \n",
        "Historical data from the Bureau of Transportation Statistics for 2018 and the first half of 2019.  The data files, are CSV files containing records for almost 11 million flights in 2018 and 2019.  The data dictionary is in an excel file FlightDataDescription.xlsx.\n",
        "\n",
        "### Data Files:\n",
        "* **FlightDelays.csv**: 10,915,495 flight logs for 2018 and the first half of 2019 (to Q2)\n",
        "* **Airports.csv**: Airport locations and codes for 362 passenger airports in the United States\n",
        "* **Routes.csv**: Distance for 6,684 airport routes with origins and destinations in the U.S.\n",
        "* **Airfares.csv**: The average airfares between cities for 2018 and the first half of 2019.\n",
        "\n",
        "<br>After removing the flights that were cancelled, we can see all the features in the raw data.\n"
      ]
    },
    {
      "cell_type": "code",
      "metadata": {
        "id": "VkU8OtepLCDZ",
        "colab_type": "code",
        "colab": {
          "base_uri": "https://localhost:8080/",
          "height": 343
        },
        "outputId": "0acb3b9a-5133-4b27-b5a1-a937ba826ff2"
      },
      "source": [
        "import pandas as pd\n",
        "import numpy as np\n",
        "import csv\n",
        "flight_data = pd.read_csv(\"drive/My Drive/FlightDelays.csv\", sep=',')\n",
        "flight_data.drop(flight_data[flight_data.CANCELED == 1].index, inplace=True)\n",
        "flight_data.head()"
      ],
      "execution_count": 1,
      "outputs": [
        {
          "output_type": "stream",
          "text": [
            "/usr/local/lib/python3.6/dist-packages/IPython/core/interactiveshell.py:2718: DtypeWarning: Columns (32) have mixed types.Specify dtype option on import or set low_memory=False.\n",
            "  interactivity=interactivity, compiler=compiler, result=result)\n"
          ],
          "name": "stderr"
        },
        {
          "output_type": "execute_result",
          "data": {
            "text/html": [
              "<div>\n",
              "<style scoped>\n",
              "    .dataframe tbody tr th:only-of-type {\n",
              "        vertical-align: middle;\n",
              "    }\n",
              "\n",
              "    .dataframe tbody tr th {\n",
              "        vertical-align: top;\n",
              "    }\n",
              "\n",
              "    .dataframe thead th {\n",
              "        text-align: right;\n",
              "    }\n",
              "</style>\n",
              "<table border=\"1\" class=\"dataframe\">\n",
              "  <thead>\n",
              "    <tr style=\"text-align: right;\">\n",
              "      <th></th>\n",
              "      <th>YEAR</th>\n",
              "      <th>QUARTER</th>\n",
              "      <th>MONTH</th>\n",
              "      <th>DAY_OF_MONTH</th>\n",
              "      <th>DAY_OF_WEEK</th>\n",
              "      <th>FL_DATE</th>\n",
              "      <th>CARRIER</th>\n",
              "      <th>FL_NUM</th>\n",
              "      <th>Route</th>\n",
              "      <th>ORIGIN</th>\n",
              "      <th>DEST</th>\n",
              "      <th>DEST_CITY</th>\n",
              "      <th>DEST_STATE</th>\n",
              "      <th>CRS_DEP_TIME</th>\n",
              "      <th>DEP_TIME</th>\n",
              "      <th>DEP_DELAY</th>\n",
              "      <th>DEP_DELAY_NEW</th>\n",
              "      <th>DEP_DEL15</th>\n",
              "      <th>DEP_DELAY_GROUP</th>\n",
              "      <th>DEP_TIME_BLK</th>\n",
              "      <th>TAXI_OUT</th>\n",
              "      <th>WHEELS_OFF</th>\n",
              "      <th>WHEELS_ON</th>\n",
              "      <th>TAXI_IN</th>\n",
              "      <th>CRS_ARR_TIME</th>\n",
              "      <th>ARR_TIME</th>\n",
              "      <th>ARR_DELAY</th>\n",
              "      <th>ARR_DELAY_NEW</th>\n",
              "      <th>ARR_DEL15</th>\n",
              "      <th>ARR_DELAY_GROUP</th>\n",
              "      <th>ARR_TIME_BLK</th>\n",
              "      <th>CANCELED</th>\n",
              "      <th>CANCELLATION_CODE</th>\n",
              "      <th>DIVERTED</th>\n",
              "      <th>CRS_ELAPSED_TIME</th>\n",
              "      <th>ACTUAL_ELAPSED_TIME</th>\n",
              "      <th>AIR_TIME</th>\n",
              "      <th>DISTANCE</th>\n",
              "      <th>CARRIER_DELAY</th>\n",
              "      <th>WEATHER_DELAY</th>\n",
              "      <th>NAS_DELAY</th>\n",
              "      <th>SECURITY_DELAY</th>\n",
              "      <th>LATE_AIRCRAFT_DELAY</th>\n",
              "      <th>PASSENGERS</th>\n",
              "      <th>EMPFULL</th>\n",
              "      <th>EMPPART</th>\n",
              "      <th>EMPTOTAL</th>\n",
              "      <th>EMPFTE</th>\n",
              "      <th>NET_INCOME</th>\n",
              "      <th>OP_REVENUES</th>\n",
              "    </tr>\n",
              "  </thead>\n",
              "  <tbody>\n",
              "    <tr>\n",
              "      <th>0</th>\n",
              "      <td>2018</td>\n",
              "      <td>1</td>\n",
              "      <td>1</td>\n",
              "      <td>1</td>\n",
              "      <td>1</td>\n",
              "      <td>2018-01-01</td>\n",
              "      <td>9E</td>\n",
              "      <td>3331</td>\n",
              "      <td>42</td>\n",
              "      <td>ABY</td>\n",
              "      <td>ATL</td>\n",
              "      <td>Atlanta, GA</td>\n",
              "      <td>GA</td>\n",
              "      <td>700</td>\n",
              "      <td>656.0</td>\n",
              "      <td>-4.0</td>\n",
              "      <td>0.0</td>\n",
              "      <td>0.0</td>\n",
              "      <td>-1.0</td>\n",
              "      <td>0700-0759</td>\n",
              "      <td>11.0</td>\n",
              "      <td>707.0</td>\n",
              "      <td>745.0</td>\n",
              "      <td>6.0</td>\n",
              "      <td>803</td>\n",
              "      <td>751.0</td>\n",
              "      <td>-12.0</td>\n",
              "      <td>0.0</td>\n",
              "      <td>0.0</td>\n",
              "      <td>-1.0</td>\n",
              "      <td>0800-0859</td>\n",
              "      <td>0</td>\n",
              "      <td>NaN</td>\n",
              "      <td>0</td>\n",
              "      <td>63.0</td>\n",
              "      <td>55.0</td>\n",
              "      <td>38.0</td>\n",
              "      <td>145</td>\n",
              "      <td>NaN</td>\n",
              "      <td>NaN</td>\n",
              "      <td>NaN</td>\n",
              "      <td>NaN</td>\n",
              "      <td>NaN</td>\n",
              "      <td>2677.0</td>\n",
              "      <td>4191.0</td>\n",
              "      <td>109.0</td>\n",
              "      <td>4300.0</td>\n",
              "      <td>4246.0</td>\n",
              "      <td>-126.37</td>\n",
              "      <td>674.25</td>\n",
              "    </tr>\n",
              "    <tr>\n",
              "      <th>1</th>\n",
              "      <td>2018</td>\n",
              "      <td>1</td>\n",
              "      <td>1</td>\n",
              "      <td>1</td>\n",
              "      <td>1</td>\n",
              "      <td>2018-01-01</td>\n",
              "      <td>9E</td>\n",
              "      <td>3940</td>\n",
              "      <td>42</td>\n",
              "      <td>ABY</td>\n",
              "      <td>ATL</td>\n",
              "      <td>Atlanta, GA</td>\n",
              "      <td>GA</td>\n",
              "      <td>1511</td>\n",
              "      <td>1510.0</td>\n",
              "      <td>-1.0</td>\n",
              "      <td>0.0</td>\n",
              "      <td>0.0</td>\n",
              "      <td>-1.0</td>\n",
              "      <td>1500-1559</td>\n",
              "      <td>11.0</td>\n",
              "      <td>1521.0</td>\n",
              "      <td>1558.0</td>\n",
              "      <td>6.0</td>\n",
              "      <td>1616</td>\n",
              "      <td>1604.0</td>\n",
              "      <td>-12.0</td>\n",
              "      <td>0.0</td>\n",
              "      <td>0.0</td>\n",
              "      <td>-1.0</td>\n",
              "      <td>1600-1659</td>\n",
              "      <td>0</td>\n",
              "      <td>NaN</td>\n",
              "      <td>0</td>\n",
              "      <td>65.0</td>\n",
              "      <td>54.0</td>\n",
              "      <td>37.0</td>\n",
              "      <td>145</td>\n",
              "      <td>NaN</td>\n",
              "      <td>NaN</td>\n",
              "      <td>NaN</td>\n",
              "      <td>NaN</td>\n",
              "      <td>NaN</td>\n",
              "      <td>2677.0</td>\n",
              "      <td>4191.0</td>\n",
              "      <td>109.0</td>\n",
              "      <td>4300.0</td>\n",
              "      <td>4246.0</td>\n",
              "      <td>-126.37</td>\n",
              "      <td>674.25</td>\n",
              "    </tr>\n",
              "    <tr>\n",
              "      <th>2</th>\n",
              "      <td>2018</td>\n",
              "      <td>1</td>\n",
              "      <td>1</td>\n",
              "      <td>2</td>\n",
              "      <td>2</td>\n",
              "      <td>2018-01-02</td>\n",
              "      <td>9E</td>\n",
              "      <td>3409</td>\n",
              "      <td>42</td>\n",
              "      <td>ABY</td>\n",
              "      <td>ATL</td>\n",
              "      <td>Atlanta, GA</td>\n",
              "      <td>GA</td>\n",
              "      <td>625</td>\n",
              "      <td>620.0</td>\n",
              "      <td>-5.0</td>\n",
              "      <td>0.0</td>\n",
              "      <td>0.0</td>\n",
              "      <td>-1.0</td>\n",
              "      <td>0600-0659</td>\n",
              "      <td>13.0</td>\n",
              "      <td>633.0</td>\n",
              "      <td>711.0</td>\n",
              "      <td>9.0</td>\n",
              "      <td>726</td>\n",
              "      <td>720.0</td>\n",
              "      <td>-6.0</td>\n",
              "      <td>0.0</td>\n",
              "      <td>0.0</td>\n",
              "      <td>-1.0</td>\n",
              "      <td>0700-0759</td>\n",
              "      <td>0</td>\n",
              "      <td>NaN</td>\n",
              "      <td>0</td>\n",
              "      <td>61.0</td>\n",
              "      <td>60.0</td>\n",
              "      <td>38.0</td>\n",
              "      <td>145</td>\n",
              "      <td>NaN</td>\n",
              "      <td>NaN</td>\n",
              "      <td>NaN</td>\n",
              "      <td>NaN</td>\n",
              "      <td>NaN</td>\n",
              "      <td>2677.0</td>\n",
              "      <td>4191.0</td>\n",
              "      <td>109.0</td>\n",
              "      <td>4300.0</td>\n",
              "      <td>4246.0</td>\n",
              "      <td>-126.37</td>\n",
              "      <td>674.25</td>\n",
              "    </tr>\n",
              "    <tr>\n",
              "      <th>3</th>\n",
              "      <td>2018</td>\n",
              "      <td>1</td>\n",
              "      <td>1</td>\n",
              "      <td>2</td>\n",
              "      <td>2</td>\n",
              "      <td>2018-01-02</td>\n",
              "      <td>9E</td>\n",
              "      <td>3940</td>\n",
              "      <td>42</td>\n",
              "      <td>ABY</td>\n",
              "      <td>ATL</td>\n",
              "      <td>Atlanta, GA</td>\n",
              "      <td>GA</td>\n",
              "      <td>1511</td>\n",
              "      <td>1507.0</td>\n",
              "      <td>-4.0</td>\n",
              "      <td>0.0</td>\n",
              "      <td>0.0</td>\n",
              "      <td>-1.0</td>\n",
              "      <td>1500-1559</td>\n",
              "      <td>11.0</td>\n",
              "      <td>1518.0</td>\n",
              "      <td>1552.0</td>\n",
              "      <td>6.0</td>\n",
              "      <td>1616</td>\n",
              "      <td>1558.0</td>\n",
              "      <td>-18.0</td>\n",
              "      <td>0.0</td>\n",
              "      <td>0.0</td>\n",
              "      <td>-2.0</td>\n",
              "      <td>1600-1659</td>\n",
              "      <td>0</td>\n",
              "      <td>NaN</td>\n",
              "      <td>0</td>\n",
              "      <td>65.0</td>\n",
              "      <td>51.0</td>\n",
              "      <td>34.0</td>\n",
              "      <td>145</td>\n",
              "      <td>NaN</td>\n",
              "      <td>NaN</td>\n",
              "      <td>NaN</td>\n",
              "      <td>NaN</td>\n",
              "      <td>NaN</td>\n",
              "      <td>2677.0</td>\n",
              "      <td>4191.0</td>\n",
              "      <td>109.0</td>\n",
              "      <td>4300.0</td>\n",
              "      <td>4246.0</td>\n",
              "      <td>-126.37</td>\n",
              "      <td>674.25</td>\n",
              "    </tr>\n",
              "    <tr>\n",
              "      <th>4</th>\n",
              "      <td>2018</td>\n",
              "      <td>1</td>\n",
              "      <td>1</td>\n",
              "      <td>3</td>\n",
              "      <td>3</td>\n",
              "      <td>2018-01-03</td>\n",
              "      <td>9E</td>\n",
              "      <td>3353</td>\n",
              "      <td>42</td>\n",
              "      <td>ABY</td>\n",
              "      <td>ATL</td>\n",
              "      <td>Atlanta, GA</td>\n",
              "      <td>GA</td>\n",
              "      <td>630</td>\n",
              "      <td>631.0</td>\n",
              "      <td>1.0</td>\n",
              "      <td>1.0</td>\n",
              "      <td>0.0</td>\n",
              "      <td>0.0</td>\n",
              "      <td>0600-0659</td>\n",
              "      <td>11.0</td>\n",
              "      <td>642.0</td>\n",
              "      <td>715.0</td>\n",
              "      <td>11.0</td>\n",
              "      <td>729</td>\n",
              "      <td>726.0</td>\n",
              "      <td>-3.0</td>\n",
              "      <td>0.0</td>\n",
              "      <td>0.0</td>\n",
              "      <td>-1.0</td>\n",
              "      <td>0700-0759</td>\n",
              "      <td>0</td>\n",
              "      <td>NaN</td>\n",
              "      <td>0</td>\n",
              "      <td>59.0</td>\n",
              "      <td>55.0</td>\n",
              "      <td>33.0</td>\n",
              "      <td>145</td>\n",
              "      <td>NaN</td>\n",
              "      <td>NaN</td>\n",
              "      <td>NaN</td>\n",
              "      <td>NaN</td>\n",
              "      <td>NaN</td>\n",
              "      <td>2677.0</td>\n",
              "      <td>4191.0</td>\n",
              "      <td>109.0</td>\n",
              "      <td>4300.0</td>\n",
              "      <td>4246.0</td>\n",
              "      <td>-126.37</td>\n",
              "      <td>674.25</td>\n",
              "    </tr>\n",
              "  </tbody>\n",
              "</table>\n",
              "</div>"
            ],
            "text/plain": [
              "   YEAR  QUARTER  MONTH  ...  EMPFTE  NET_INCOME OP_REVENUES\n",
              "0  2018        1      1  ...  4246.0     -126.37      674.25\n",
              "1  2018        1      1  ...  4246.0     -126.37      674.25\n",
              "2  2018        1      1  ...  4246.0     -126.37      674.25\n",
              "3  2018        1      1  ...  4246.0     -126.37      674.25\n",
              "4  2018        1      1  ...  4246.0     -126.37      674.25\n",
              "\n",
              "[5 rows x 50 columns]"
            ]
          },
          "metadata": {
            "tags": []
          },
          "execution_count": 1
        }
      ]
    },
    {
      "cell_type": "markdown",
      "metadata": {
        "id": "QchHrPXKwxD-",
        "colab_type": "text"
      },
      "source": [
        "# Abstract - Data Visualization on FLight Data\n",
        "\n",
        "The first step in every Data Science and Prediction problem is to visualize the data. Also, at the final step of some researches, i.e submitting papers, researchers usually explain their ideas with the aid of data visualization, because human's vision may have a better acceptance to figures than words or equations. Data Visualization provides us some concepts or picture to the prediction problem and results.\n",
        "\n",
        "<br>The intuition here is that we plot the relationships between each feature to the arrival delay, so that we expect to find some tendency between the arrival delay to the specific feature. Futrhermore, we also find that if the arrival delays are more diversified with respect to one feature in different values, in other words, the arrival delays show more  randomness to this specific feature, we can suggest this feature to be a great indicator for our prediction model for the arrival delays.\n",
        "\n",
        "<br>We adopt **seaborn**, which is a Python library with many fantastic visualizations. Also, it is easy to get started but users could still get profound information by utilizing it.\n",
        "\n",
        "# Analysis on the Revenue Driver to Arrival Delay - Average Fare Per Mile\n",
        "\n",
        "The **FlightDelays.csv** contains the information to each flight, and the **Airfares.csv** has the information of Average Fare between two cities in a specific Year and Quarter.\n",
        "\n",
        "<br>We combines these two data to acquire the **Average Fare Per Mile** (every 0.2 a group) for each flight, which is calculated by dividing the fare by the total distance between the origin and destination of a certain flight. Also, to reduce the complexity of interpreting figures, we us **Arrival Delay Intervals** as arrival delays, by splitting the arrival delay time by every 15 min from -15 to 180 minutes (group number -2~12).\n",
        "\n",
        "<br> It has been shown that revenue has a significant impact on\n",
        "scheduled on-time arrival probabilities. In other words, revenue\n",
        "maximization motivation is one of the most important drivers in airline scheduling decisions and is strongly correlated to flight delays. Thus, it is reasonable to predict that the average fare per mile is a potential driver for flight delays."
      ]
    },
    {
      "cell_type": "code",
      "metadata": {
        "id": "9AqLA8-WD3n2",
        "colab_type": "code",
        "colab": {
          "base_uri": "https://localhost:8080/",
          "height": 72
        },
        "outputId": "dcb2cdc5-c6c4-48c4-9c0c-2ae74f9380e6"
      },
      "source": [
        "import pandas as pd\n",
        "import numpy as np\n",
        "import csv\n",
        "\n",
        "# CARRIER PASSENGERS EMPFULL EMPPART EMPTOTAL EMPFTE NET_INCOME OP_REVENUES\n",
        "flight_data = pd.read_csv(\"drive/My Drive/FlightDelays.csv\", sep=',')\n",
        "flight_data.drop(flight_data[flight_data.CANCELED == 1].index, inplace=True)\n",
        "flight_data = flight_data[['ORIGIN','DEST','ARR_DELAY_GROUP']]\n",
        "market = pd.read_csv(\"drive/My Drive/AirFares.csv\")\n",
        "market = market.rename(columns={\"Origin\":\"ORIGIN\", \"Dest\":\"DEST\"})\n",
        "newColName = ['ORIGIN', 'DEST','nsmiles', 'fare', 'large_ms']\n",
        "flight_data = pd.merge(flight_data, market[newColName], on=['ORIGIN', 'DEST'])\n",
        "sum_column = flight_data['fare']/flight_data['nsmiles']\n",
        "flight_data['AVG_FARE_MILE'] = sum_column"
      ],
      "execution_count": 1,
      "outputs": [
        {
          "output_type": "stream",
          "text": [
            "/usr/local/lib/python3.6/dist-packages/IPython/core/interactiveshell.py:2718: DtypeWarning: Columns (32) have mixed types.Specify dtype option on import or set low_memory=False.\n",
            "  interactivity=interactivity, compiler=compiler, result=result)\n"
          ],
          "name": "stderr"
        }
      ]
    },
    {
      "cell_type": "code",
      "metadata": {
        "id": "yivr0ySE3CJ7",
        "colab_type": "code",
        "outputId": "1ea8bca8-3084-41b3-e991-343d5abd22f1",
        "colab": {
          "base_uri": "https://localhost:8080/",
          "height": 457
        }
      },
      "source": [
        "import seaborn as sns\n",
        "import matplotlib.pyplot as plt\n",
        "flight_data_time = flight_data[['AVG_FARE_MILE','ARR_DELAY_GROUP']]\n",
        "flight_data_time['AVG_FARE_MILE'] = flight_data_time['AVG_FARE_MILE'].apply(lambda x: np.float64(np.floor(x*5)/5))\n",
        "plt.figure(figsize=(20,5))\n",
        "sns.catplot(x=\"AVG_FARE_MILE\", y=\"ARR_DELAY_GROUP\", aspect=3, kind='boxen', data=flight_data_time)"
      ],
      "execution_count": 4,
      "outputs": [
        {
          "output_type": "stream",
          "text": [
            "/usr/local/lib/python3.6/dist-packages/ipykernel_launcher.py:4: SettingWithCopyWarning: \n",
            "A value is trying to be set on a copy of a slice from a DataFrame.\n",
            "Try using .loc[row_indexer,col_indexer] = value instead\n",
            "\n",
            "See the caveats in the documentation: https://pandas.pydata.org/pandas-docs/stable/user_guide/indexing.html#returning-a-view-versus-a-copy\n",
            "  after removing the cwd from sys.path.\n"
          ],
          "name": "stderr"
        },
        {
          "output_type": "execute_result",
          "data": {
            "text/plain": [
              "<seaborn.axisgrid.FacetGrid at 0x7f55656be438>"
            ]
          },
          "metadata": {
            "tags": []
          },
          "execution_count": 4
        },
        {
          "output_type": "display_data",
          "data": {
            "text/plain": [
              "<Figure size 1440x360 with 0 Axes>"
            ]
          },
          "metadata": {
            "tags": []
          }
        },
        {
          "output_type": "display_data",
          "data": {
            "image/png": "[encoded data removed]",
            "text/plain": [
              "<Figure size 1080x360 with 1 Axes>"
            ]
          },
          "metadata": {
            "tags": [],
            "needs_background": "light"
          }
        }
      ]
    },
    {
      "cell_type": "markdown",
      "metadata": {
        "id": "QSAFuQDYFCYV",
        "colab_type": "text"
      },
      "source": [
        "# Analysis on the Competitiveness to Arrival Delay - Proportion of Market Share\n",
        "\n",
        "A hypothesis here is that the competitive measures (e.g., market share) has a significant impact on the scheduled on-time arrival probabilities. To quantifty the competitive measures, we used the proportion of market covered by carriers with **largest market share** (every 0.2 a group) to capture the competitive environment of certain routes. \n",
        "\n",
        "<br>We chose the proportion of market covered by the carrier with the largest market share to capture the competitive environment because the largest market share covered by a single carrier reflects the market concentration. \n",
        "\n",
        "<br>Typically speaking, **the higher the market share, the higher the market concentration**. Thus, the proportion of market covered by the carrier with largest market share is a good indicator of market competition of a certain route, which is also supported by the visualization results."
      ]
    },
    {
      "cell_type": "code",
      "metadata": {
        "id": "zQKbr1s0GQsm",
        "colab_type": "code",
        "outputId": "8ba3028a-18b1-4597-a5ce-3c56b676c7d4",
        "colab": {
          "base_uri": "https://localhost:8080/",
          "height": 457
        }
      },
      "source": [
        "import seaborn as sns\n",
        "import matplotlib.pyplot as plt\n",
        "flight_data_time = flight_data[['large_ms','ARR_DELAY_GROUP']]\n",
        "flight_data_time['large_ms'] = flight_data_time['large_ms'].apply(lambda x: np.float64(np.floor(x*50)/50))\n",
        "#flight_data_time.head()\n",
        "plt.figure(figsize=(20,5))\n",
        "sns.catplot(x=\"large_ms\", y=\"ARR_DELAY_GROUP\", aspect=3, kind='boxen', data=flight_data_time)"
      ],
      "execution_count": 5,
      "outputs": [
        {
          "output_type": "stream",
          "text": [
            "/usr/local/lib/python3.6/dist-packages/ipykernel_launcher.py:4: SettingWithCopyWarning: \n",
            "A value is trying to be set on a copy of a slice from a DataFrame.\n",
            "Try using .loc[row_indexer,col_indexer] = value instead\n",
            "\n",
            "See the caveats in the documentation: https://pandas.pydata.org/pandas-docs/stable/user_guide/indexing.html#returning-a-view-versus-a-copy\n",
            "  after removing the cwd from sys.path.\n"
          ],
          "name": "stderr"
        },
        {
          "output_type": "execute_result",
          "data": {
            "text/plain": [
              "<seaborn.axisgrid.FacetGrid at 0x7f55656c5940>"
            ]
          },
          "metadata": {
            "tags": []
          },
          "execution_count": 5
        },
        {
          "output_type": "display_data",
          "data": {
            "text/plain": [
              "<Figure size 1440x360 with 0 Axes>"
            ]
          },
          "metadata": {
            "tags": []
          }
        },
        {
          "output_type": "display_data",
          "data": {
            "image/png": "[encoded data removed]",
            "text/plain": [
              "<Figure size 1080x360 with 1 Axes>"
            ]
          },
          "metadata": {
            "tags": [],
            "needs_background": "light"
          }
        }
      ]
    },
    {
      "cell_type": "markdown",
      "metadata": {
        "id": "17l_OetFJ5KC",
        "colab_type": "text"
      },
      "source": [
        "# Analysis on the Service Quality to Arrival Delay - Proportion of Market Share\n",
        "\n",
        "The **Full time equivalent employees (EMPFTE)** is an feature we select to plot and discuss here.\n",
        "\n",
        "<br>The total number of full time equivalent employees can reflect the service quality of flights on\n",
        "a route. If the number of full time equivalent employees cannot afford the on/off-boarding\n",
        "demands, it may affect the Carrier Delay and cause the flight arrival delay finally. And the visualization results also show that at some range of the number of EMPFTE, higher arrival delays may happen."
      ]
    },
    {
      "cell_type": "code",
      "metadata": {
        "id": "PoIvTPsPjHhY",
        "colab_type": "code",
        "outputId": "3dcc6b70-d0e2-4cbb-d20b-5cf55b96927f",
        "colab": {
          "base_uri": "https://localhost:8080/",
          "height": 579
        }
      },
      "source": [
        "import seaborn as sns\n",
        "import matplotlib.pyplot as plt\n",
        "\n",
        "flight_data_time = flight_data[['EMPFTE','ARR_DELAY_GROUP']]\n",
        "flight_data_time['EMPFTE'] = flight_data_time['EMPFTE'].apply(lambda x: np.int32(np.floor(x/1000)*1000))\n",
        "flight_data_time['EMPFTE'] = flight_data_time['EMPFTE'].apply(lambda x: 1000 if x < 1000 else x)\n",
        "plt.figure(figsize=(20,5))\n",
        "sns.catplot(x=\"EMPFTE\", y=\"ARR_DELAY_GROUP\", aspect=3, kind='box', data=flight_data_time)"
      ],
      "execution_count": 0,
      "outputs": [
        {
          "output_type": "stream",
          "text": [
            "ERROR! Session/line number was not unique in database. History logging moved to new session 61\n"
          ],
          "name": "stdout"
        },
        {
          "output_type": "stream",
          "text": [
            "/usr/local/lib/python3.6/dist-packages/ipykernel_launcher.py:5: SettingWithCopyWarning: \n",
            "A value is trying to be set on a copy of a slice from a DataFrame.\n",
            "Try using .loc[row_indexer,col_indexer] = value instead\n",
            "\n",
            "See the caveats in the documentation: https://pandas.pydata.org/pandas-docs/stable/user_guide/indexing.html#returning-a-view-versus-a-copy\n",
            "  \"\"\"\n",
            "/usr/local/lib/python3.6/dist-packages/ipykernel_launcher.py:6: SettingWithCopyWarning: \n",
            "A value is trying to be set on a copy of a slice from a DataFrame.\n",
            "Try using .loc[row_indexer,col_indexer] = value instead\n",
            "\n",
            "See the caveats in the documentation: https://pandas.pydata.org/pandas-docs/stable/user_guide/indexing.html#returning-a-view-versus-a-copy\n",
            "  \n"
          ],
          "name": "stderr"
        },
        {
          "output_type": "execute_result",
          "data": {
            "text/plain": [
              "<seaborn.axisgrid.FacetGrid at 0x7f13e92eb588>"
            ]
          },
          "metadata": {
            "tags": []
          },
          "execution_count": 4
        },
        {
          "output_type": "display_data",
          "data": {
            "text/plain": [
              "<Figure size 1440x360 with 0 Axes>"
            ]
          },
          "metadata": {
            "tags": []
          }
        },
        {
          "output_type": "display_data",
          "data": {
            "image/png": "[encoded data removed]",
            "text/plain": [
              "<Figure size 1080x360 with 1 Axes>"
            ]
          },
          "metadata": {
            "tags": []
          }
        }
      ]
    },
    {
      "cell_type": "markdown",
      "metadata": {
        "id": "Mtw3npPZSUwf",
        "colab_type": "text"
      },
      "source": [
        "# Analysis on the CRS Departure Time to Arrival Delay - CRS Departure Time\n",
        "\n",
        "The **CRS Departure Time**, which is a scheduled departure time for each flight, where CRS stands for computerized reservation system.\n",
        "\n",
        "<br>The **CRS Departure Time** is a potential driver for National Air System Delay, Carrier Delay and Weather Delay, which are delay categories of all flight arrival delays.\n",
        "\n",
        "<br>Periods of high traffic congestion usually occur when the demand for travel is elevated. For example,\n",
        "airlines usually schedule a large number of flights in the 1pm-9pm interval as departure time in order to meet business travel demands. \n",
        "\n",
        "<br>Besides, the probabilities of air turbulence are different in each hour of a day, and everyone knows that the turbulence is a critical factor to flight delays. Since the situations stated above can lead to **National Air System Delay, Carrier Delay or Weather Delay**. Based on the plot below, it is reasonable to include CRS Departure time feature to our prediction model."
      ]
    },
    {
      "cell_type": "code",
      "metadata": {
        "id": "EydYvWEUZD_t",
        "colab_type": "code",
        "outputId": "ff82db61-9ab1-4a95-e8f8-621eb9944335",
        "colab": {
          "base_uri": "https://localhost:8080/",
          "height": 559
        }
      },
      "source": [
        "import seaborn as sns\n",
        "import matplotlib.pyplot as plt\n",
        "flight_data_time = flight_data[['CRS_DEP_TIME','ARR_DELAY_GROUP']]\n",
        "flight_data_time['CRS_DEP_TIME'] = flight_data_time['CRS_DEP_TIME'].apply(lambda x: np.int32(np.floor(x/100)))\n",
        "flight_data_time['CRS_DEP_TIME'] = flight_data_time['CRS_DEP_TIME'].apply(lambda x: 0 if x == 24 else x)\n",
        "plt.figure(figsize=(20,5))\n",
        "sns.catplot(x=\"CRS_DEP_TIME\", y=\"ARR_DELAY_GROUP\", aspect=3, kind='box', data=flight_data_time)\n"
      ],
      "execution_count": 0,
      "outputs": [
        {
          "output_type": "stream",
          "text": [
            "/usr/local/lib/python3.6/dist-packages/ipykernel_launcher.py:4: SettingWithCopyWarning: \n",
            "A value is trying to be set on a copy of a slice from a DataFrame.\n",
            "Try using .loc[row_indexer,col_indexer] = value instead\n",
            "\n",
            "See the caveats in the documentation: https://pandas.pydata.org/pandas-docs/stable/user_guide/indexing.html#returning-a-view-versus-a-copy\n",
            "  after removing the cwd from sys.path.\n",
            "/usr/local/lib/python3.6/dist-packages/ipykernel_launcher.py:5: SettingWithCopyWarning: \n",
            "A value is trying to be set on a copy of a slice from a DataFrame.\n",
            "Try using .loc[row_indexer,col_indexer] = value instead\n",
            "\n",
            "See the caveats in the documentation: https://pandas.pydata.org/pandas-docs/stable/user_guide/indexing.html#returning-a-view-versus-a-copy\n",
            "  \"\"\"\n"
          ],
          "name": "stderr"
        },
        {
          "output_type": "execute_result",
          "data": {
            "text/plain": [
              "<seaborn.axisgrid.FacetGrid at 0x7fa27845b0f0>"
            ]
          },
          "metadata": {
            "tags": []
          },
          "execution_count": 8
        },
        {
          "output_type": "display_data",
          "data": {
            "text/plain": [
              "<Figure size 1440x360 with 0 Axes>"
            ]
          },
          "metadata": {
            "tags": []
          }
        },
        {
          "output_type": "display_data",
          "data": {
            "image/png": "[encoded data removed]",
            "text/plain": [
              "<Figure size 1080x360 with 1 Axes>"
            ]
          },
          "metadata": {
            "tags": []
          }
        }
      ]
    },
    {
      "cell_type": "markdown",
      "metadata": {
        "id": "NjcXbkCmVCOG",
        "colab_type": "text"
      },
      "source": [
        "# Analysis on the Carrier Delay to Arrival Delay - Carrier\n",
        "\n",
        "The **Carrier** information can capture the carrier specific features that could impact the arrival schedule decision, which is directly related to Carrier Delay. \n",
        "\n",
        "<br>We do this because the management efficiency and marketing strategy differ from carrier to carrier. For example, budget airlines have higher probabilities of arrival delay because their customers are price sensitive and are willing to accept delays in exchange for a better deal. \n",
        "\n",
        "<br>Nevertheless, being punctual is more essential for some commercial-passenger-oriented carriers, since their goodwill is built highly based on their services and customer satisfaction. \n",
        "\n",
        "<br>Thus, Carrier information is a reasonable feature to predict Carrier Delay, which directly affects the arrival delay. The figure below supports such idea that the carrier largely affect the arrival delay."
      ]
    },
    {
      "cell_type": "code",
      "metadata": {
        "id": "vFZJ1HJU5ZJk",
        "colab_type": "code",
        "outputId": "d0170f4b-a168-44b5-c2e5-5641e02a1650",
        "colab": {
          "base_uri": "https://localhost:8080/",
          "height": 404
        }
      },
      "source": [
        "import seaborn as sns\n",
        "import matplotlib.pyplot as plt\n",
        "flight_data_time = flight_data[['CARRIER','ARR_DELAY_GROUP']]\n",
        "plt.figure(figsize=(20,5))\n",
        "sns.catplot(x=\"CARRIER\", y=\"ARR_DELAY_GROUP\", aspect=2, kind='box', data=flight_data_time)\n",
        "#plt.axhline(0,color='k')"
      ],
      "execution_count": 0,
      "outputs": [
        {
          "output_type": "execute_result",
          "data": {
            "text/plain": [
              "<seaborn.axisgrid.FacetGrid at 0x7f3f1014dcc0>"
            ]
          },
          "metadata": {
            "tags": []
          },
          "execution_count": 8
        },
        {
          "output_type": "display_data",
          "data": {
            "text/plain": [
              "<Figure size 1440x360 with 0 Axes>"
            ]
          },
          "metadata": {
            "tags": []
          }
        },
        {
          "output_type": "display_data",
          "data": {
            "image/png": "[encoded data removed]",
            "text/plain": [
              "<Figure size 720x360 with 1 Axes>"
            ]
          },
          "metadata": {
            "tags": []
          }
        }
      ]
    },
    {
      "cell_type": "markdown",
      "metadata": {
        "id": "8OuvYn8qV-mZ",
        "colab_type": "text"
      },
      "source": [
        "# Analysis on the Origin and Destination to Arrival Delay - Origin State and Destination State\n",
        "\n",
        "The below two figures represent the relationships between the Origin State and Destination State to the flight arrival delays. The airports themselves are potential drivers for the National Air System Delay and the Security Delay.\n",
        "\n",
        "<br>Different Origin and Destination airports have different airport capacities, for instance, the airline congestion or the bandwidth of security check are different between different airports. Therefore, introducing Origin and Destination airports in our input features captures the variation in National Air System Delay and Security Delay."
      ]
    },
    {
      "cell_type": "code",
      "metadata": {
        "id": "Seaf2J8O8ZcR",
        "colab_type": "code",
        "outputId": "0fad8318-43c0-4449-ca99-a4b32427de90",
        "colab": {
          "base_uri": "https://localhost:8080/",
          "height": 333
        }
      },
      "source": [
        "import seaborn as sns\n",
        "import matplotlib.pyplot as plt\n",
        "plt.figure(figsize=(20,5))\n",
        "flight_data_time = clean_data[['ORIGIN_STATE','ARR_DELAY_GROUP']]\n",
        "sns.catplot(x=\"ORIGIN_STATE\", y=\"ARR_DELAY_GROUP\", aspect=3, kind='box', data=flight_data_time)\n",
        "#plt.axhline(0,color='k')"
      ],
      "execution_count": 0,
      "outputs": [
        {
          "output_type": "execute_result",
          "data": {
            "text/plain": [
              "<seaborn.axisgrid.FacetGrid at 0x7fcc77813198>"
            ]
          },
          "metadata": {
            "tags": []
          },
          "execution_count": 3
        },
        {
          "output_type": "display_data",
          "data": {
            "text/plain": [
              "<Figure size 1440x360 with 0 Axes>"
            ]
          },
          "metadata": {
            "tags": []
          }
        },
        {
          "output_type": "display_data",
          "data": {
            "image/png": "[encoded data removed]",
            "text/plain": [
              "<Figure size 1080x360 with 1 Axes>"
            ]
          },
          "metadata": {
            "tags": []
          }
        }
      ]
    },
    {
      "cell_type": "code",
      "metadata": {
        "id": "5_dAiZapXFqC",
        "colab_type": "code",
        "colab": {
          "base_uri": "https://localhost:8080/",
          "height": 388
        },
        "outputId": "08ed67a1-15d5-430b-e676-2d87a11df24b"
      },
      "source": [
        "import seaborn as sns\n",
        "import matplotlib.pyplot as plt\n",
        "\n",
        "flight_data_time = flight_data[['DEST_STATE','ARR_DELAY_GROUP']]\n",
        "plt.figure(figsize=(20,5))\n",
        "sns.catplot(x=\"DEST_STATE\", y=\"ARR_DELAY_GROUP\", aspect=3, kind='box', data=flight_data_time)\n",
        "#plt.axhline(0,color='k')"
      ],
      "execution_count": 2,
      "outputs": [
        {
          "output_type": "stream",
          "text": [
            "/usr/local/lib/python3.6/dist-packages/statsmodels/tools/_testing.py:19: FutureWarning: pandas.util.testing is deprecated. Use the functions in the public API at pandas.testing instead.\n",
            "  import pandas.util.testing as tm\n"
          ],
          "name": "stderr"
        },
        {
          "output_type": "execute_result",
          "data": {
            "text/plain": [
              "<seaborn.axisgrid.FacetGrid at 0x7f17352f23c8>"
            ]
          },
          "metadata": {
            "tags": []
          },
          "execution_count": 2
        },
        {
          "output_type": "display_data",
          "data": {
            "text/plain": [
              "<Figure size 1440x360 with 0 Axes>"
            ]
          },
          "metadata": {
            "tags": []
          }
        },
        {
          "output_type": "display_data",
          "data": {
            "image/png": "[encoded data removed]",
            "text/plain": [
              "<Figure size 1080x360 with 1 Axes>"
            ]
          },
          "metadata": {
            "tags": [],
            "needs_background": "light"
          }
        }
      ]
    },
    {
      "cell_type": "markdown",
      "metadata": {
        "id": "xGmJM_DfYJZl",
        "colab_type": "text"
      },
      "source": [
        "# Conclusion\n",
        "\n",
        "With the aid of Data Visualization by seaborn library, we can have a rough picture on the distribution and tendency of prediction to our raw data. By going through these steps, we select **Origin State and Destination State**, **Carrier**, **CRS Departure time**, **Full time equivalent employees (EMPFTE)** as features for our predictors for flight delays.\n"
      ]
    }
  ]
}